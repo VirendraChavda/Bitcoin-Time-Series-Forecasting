{
 "cells": [
  {
   "cell_type": "code",
   "execution_count": 1,
   "id": "bca92fe1",
   "metadata": {},
   "outputs": [],
   "source": [
    "import numpy as np\n",
    "import pandas as pd\n",
    "import datetime\n",
    "import statistics\n",
    "\n",
    "import matplotlib.pyplot as plt\n",
    "import seaborn as sns\n",
    "import tensorflow as tf\n",
    "import sklearn.metrics\n",
    "\n",
    "from matplotlib import style\n",
    "style.use('ggplot')\n",
    "\n",
    "import warnings\n",
    "warnings.filterwarnings('ignore')\n",
    "\n",
    "%matplotlib inline\n",
    "\n",
    "pd.options.display.max_columns = None"
   ]
  },
  {
   "cell_type": "markdown",
   "id": "c1e7d255",
   "metadata": {},
   "source": [
    "#### Combining reddit datasets"
   ]
  },
  {
   "cell_type": "code",
   "execution_count": 2,
   "id": "d73e16af",
   "metadata": {},
   "outputs": [
    {
     "data": {
      "text/html": [
       "<div>\n",
       "<style scoped>\n",
       "    .dataframe tbody tr th:only-of-type {\n",
       "        vertical-align: middle;\n",
       "    }\n",
       "\n",
       "    .dataframe tbody tr th {\n",
       "        vertical-align: top;\n",
       "    }\n",
       "\n",
       "    .dataframe thead th {\n",
       "        text-align: right;\n",
       "    }\n",
       "</style>\n",
       "<table border=\"1\" class=\"dataframe\">\n",
       "  <thead>\n",
       "    <tr style=\"text-align: right;\">\n",
       "      <th></th>\n",
       "      <th>created</th>\n",
       "      <th>title</th>\n",
       "    </tr>\n",
       "  </thead>\n",
       "  <tbody>\n",
       "    <tr>\n",
       "      <th>0</th>\n",
       "      <td>2017-03-02 11:01</td>\n",
       "      <td>If Alipay Were Bitcoin: Why Coinbase Exits Haw...</td>\n",
       "    </tr>\n",
       "    <tr>\n",
       "      <th>1</th>\n",
       "      <td>2017-03-02 11:31</td>\n",
       "      <td>Bitcoin Price Breaks $1228 All-Time High Again...</td>\n",
       "    </tr>\n",
       "    <tr>\n",
       "      <th>2</th>\n",
       "      <td>2017-03-02 11:31</td>\n",
       "      <td>Bitcoin's “creator” races to patent technology...</td>\n",
       "    </tr>\n",
       "    <tr>\n",
       "      <th>3</th>\n",
       "      <td>2017-03-02 12:16</td>\n",
       "      <td>Winklevoss Twins Await Imminent SEC Decision o...</td>\n",
       "    </tr>\n",
       "    <tr>\n",
       "      <th>4</th>\n",
       "      <td>2017-03-02 12:16</td>\n",
       "      <td>NSA Will Not Use Quantum Computers to Crack Bi...</td>\n",
       "    </tr>\n",
       "    <tr>\n",
       "      <th>...</th>\n",
       "      <td>...</td>\n",
       "      <td>...</td>\n",
       "    </tr>\n",
       "    <tr>\n",
       "      <th>44852</th>\n",
       "      <td>2023-02-01 11:14</td>\n",
       "      <td>Five reasons why millionaires are back investi...</td>\n",
       "    </tr>\n",
       "    <tr>\n",
       "      <th>44853</th>\n",
       "      <td>2023-02-01 11:14</td>\n",
       "      <td>How Ethereum Improved On Bitcoin, And How Big ...</td>\n",
       "    </tr>\n",
       "    <tr>\n",
       "      <th>44854</th>\n",
       "      <td>2023-02-01 11:14</td>\n",
       "      <td>Analyst Who Accurately Predicted 2018 Bitcoin ...</td>\n",
       "    </tr>\n",
       "    <tr>\n",
       "      <th>44855</th>\n",
       "      <td>2023-02-01 13:16</td>\n",
       "      <td>What's Driving the Bitcoin Rally? And Will It ...</td>\n",
       "    </tr>\n",
       "    <tr>\n",
       "      <th>44856</th>\n",
       "      <td>2023-02-01 13:16</td>\n",
       "      <td>Bitcoin Pauses as Crypto Traders Await the Fed...</td>\n",
       "    </tr>\n",
       "  </tbody>\n",
       "</table>\n",
       "<p>44857 rows × 2 columns</p>\n",
       "</div>"
      ],
      "text/plain": [
       "                created                                              title\n",
       "0      2017-03-02 11:01  If Alipay Were Bitcoin: Why Coinbase Exits Haw...\n",
       "1      2017-03-02 11:31  Bitcoin Price Breaks $1228 All-Time High Again...\n",
       "2      2017-03-02 11:31  Bitcoin's “creator” races to patent technology...\n",
       "3      2017-03-02 12:16  Winklevoss Twins Await Imminent SEC Decision o...\n",
       "4      2017-03-02 12:16  NSA Will Not Use Quantum Computers to Crack Bi...\n",
       "...                 ...                                                ...\n",
       "44852  2023-02-01 11:14  Five reasons why millionaires are back investi...\n",
       "44853  2023-02-01 11:14  How Ethereum Improved On Bitcoin, And How Big ...\n",
       "44854  2023-02-01 11:14  Analyst Who Accurately Predicted 2018 Bitcoin ...\n",
       "44855  2023-02-01 13:16  What's Driving the Bitcoin Rally? And Will It ...\n",
       "44856  2023-02-01 13:16  Bitcoin Pauses as Crypto Traders Await the Fed...\n",
       "\n",
       "[44857 rows x 2 columns]"
      ]
     },
     "execution_count": 2,
     "metadata": {},
     "output_type": "execute_result"
    }
   ],
   "source": [
    "df = pd.read_csv('Data/reddit/atbitcoin_submissions.csv')\n",
    "df"
   ]
  },
  {
   "cell_type": "code",
   "execution_count": 3,
   "id": "cc4fdf45",
   "metadata": {},
   "outputs": [],
   "source": [
    "#df = pd.read_csv('Data/reddit/Bitcoin_submissions.csv')\n",
    "df['created'] = pd.to_datetime(df['created'], infer_datetime_format=True)\n",
    "df[\"Datetime\"] = df[\"created\"].dt.ceil(freq = 'H', nonexistent = 'next')\n",
    "df.drop('created', axis = 1, inplace = True)\n",
    "try:\n",
    "    temp_df1 = df.loc[(df['Datetime'] >= '2022-07-01') & (df['Datetime'] < '2023-07-01')]\n",
    "    temp_df1.reset_index(drop = True, inplace = True)\n",
    "except:\n",
    "    print(\"Date not in range\")"
   ]
  },
  {
   "cell_type": "code",
   "execution_count": 4,
   "id": "1ff466aa",
   "metadata": {},
   "outputs": [],
   "source": [
    "df = pd.read_csv('Data/reddit/Bitcoin_submissions.csv')\n",
    "df['created'] = pd.to_datetime(df['created'], infer_datetime_format=True)\n",
    "df[\"Datetime\"] = df[\"created\"].dt.ceil(freq = 'H', nonexistent = 'next')\n",
    "df.drop('created', axis = 1, inplace = True)\n",
    "try:\n",
    "    temp_df2 = df.loc[(df['Datetime'] >= '2022-07-01') & (df['Datetime'] < '2023-07-01')]\n",
    "    temp_df2.reset_index(drop = True, inplace = True)\n",
    "except:\n",
    "    print(\"Date not in range\")"
   ]
  },
  {
   "cell_type": "code",
   "execution_count": 5,
   "id": "3aa99d30",
   "metadata": {},
   "outputs": [],
   "source": [
    "df = pd.read_csv('Data/reddit/bitcoin_uncensored_submissions.csv')\n",
    "df['created'] = pd.to_datetime(df['created'], infer_datetime_format=True)\n",
    "df[\"Datetime\"] = df[\"created\"].dt.ceil(freq = 'H', nonexistent = 'next')\n",
    "df.drop('created', axis = 1, inplace = True)\n",
    "try:\n",
    "    temp_df3 = df.loc[(df['Datetime'] >= '2022-07-01') & (df['Datetime'] < '2023-07-01')]\n",
    "    temp_df3.reset_index(drop = True, inplace = True)\n",
    "except:\n",
    "    print(\"Date not in range\")"
   ]
  },
  {
   "cell_type": "code",
   "execution_count": 6,
   "id": "be2130b8",
   "metadata": {},
   "outputs": [],
   "source": [
    "df = pd.read_csv('Data/reddit/BitcoinMarkets_submissions.csv')\n",
    "df['created'] = pd.to_datetime(df['created'], infer_datetime_format=True)\n",
    "df[\"Datetime\"] = df[\"created\"].dt.ceil(freq = 'H', nonexistent = 'next')\n",
    "df.drop('created', axis = 1, inplace = True)\n",
    "try:\n",
    "    temp_df4 = df.loc[(df['Datetime'] >= '2022-07-01') & (df['Datetime'] < '2023-07-01')]\n",
    "    temp_df4.reset_index(drop = True, inplace = True)\n",
    "except:\n",
    "    print(\"Date not in range\")"
   ]
  },
  {
   "cell_type": "code",
   "execution_count": 7,
   "id": "c56b1a01",
   "metadata": {},
   "outputs": [],
   "source": [
    "df = pd.read_csv('Data/reddit/BitcoinPrivate_submissions.csv')\n",
    "df['created'] = pd.to_datetime(df['created'], infer_datetime_format=True)\n",
    "df[\"Datetime\"] = df[\"created\"].dt.ceil(freq = 'H', nonexistent = 'next')\n",
    "df.drop('created', axis = 1, inplace = True)\n",
    "try:\n",
    "    temp_df5 = df.loc[(df['Datetime'] >= '2022-07-01') & (df['Datetime'] < '2023-07-01')]\n",
    "    temp_df5.reset_index(drop = True, inplace = True)\n",
    "except:\n",
    "    print(\"Date not in range\")"
   ]
  },
  {
   "cell_type": "code",
   "execution_count": 8,
   "id": "6652ebdc",
   "metadata": {},
   "outputs": [],
   "source": [
    "df = pd.read_csv('Data/reddit/BitcoinStocks_submissions.csv')\n",
    "df['created'] = pd.to_datetime(df['created'], infer_datetime_format=True)\n",
    "df[\"Datetime\"] = df[\"created\"].dt.ceil(freq = 'H', nonexistent = 'next')\n",
    "df.drop('created', axis = 1, inplace = True)\n",
    "try:\n",
    "    temp_df6 = df.loc[(df['Datetime'] >= '2022-07-01') & (df['Datetime'] < '2023-07-01')]\n",
    "    temp_df6.reset_index(drop = True, inplace = True)\n",
    "except:\n",
    "    print(\"Date not in range\")"
   ]
  },
  {
   "cell_type": "code",
   "execution_count": 9,
   "id": "ca594290",
   "metadata": {},
   "outputs": [],
   "source": [
    "df = pd.read_csv('Data/reddit/BitcoinUK_submissions.csv')\n",
    "df['created'] = pd.to_datetime(df['created'], infer_datetime_format=True)\n",
    "df[\"Datetime\"] = df[\"created\"].dt.ceil(freq = 'H', nonexistent = 'next')\n",
    "df.drop('created', axis = 1, inplace = True)\n",
    "try:\n",
    "    temp_df7 = df.loc[(df['Datetime'] >= '2022-07-01') & (df['Datetime'] < '2023-07-01')]\n",
    "    temp_df7.reset_index(drop = True, inplace = True)\n",
    "except:\n",
    "    print(\"Date not in range\")"
   ]
  },
  {
   "cell_type": "code",
   "execution_count": 10,
   "id": "187304f3",
   "metadata": {},
   "outputs": [],
   "source": [
    "df = pd.read_csv('Data/reddit/btc_comments.csv')\n",
    "df['created'] = pd.to_datetime(df['created'], infer_datetime_format=True)\n",
    "df[\"Datetime\"] = df[\"created\"].dt.ceil(freq = 'H', nonexistent = 'next')\n",
    "df.drop('created', axis = 1, inplace = True)\n",
    "try:\n",
    "    temp_df8 = df.loc[(df['Datetime'] >= '2022-07-01') & (df['Datetime'] < '2023-07-01')]\n",
    "    temp_df8.reset_index(drop = True, inplace = True)\n",
    "except:\n",
    "    print(\"Date not in range\")"
   ]
  },
  {
   "cell_type": "code",
   "execution_count": 11,
   "id": "f3ec413e",
   "metadata": {},
   "outputs": [],
   "source": [
    "df = pd.read_csv('Data/reddit/BTC_Private_submissions.csv')\n",
    "df['created'] = pd.to_datetime(df['created'], infer_datetime_format=True)\n",
    "df[\"Datetime\"] = df[\"created\"].dt.ceil(freq = 'H', nonexistent = 'next')\n",
    "df.drop('created', axis = 1, inplace = True)\n",
    "try:\n",
    "    temp_df9 = df.loc[(df['Datetime'] >= '2022-07-01') & (df['Datetime'] < '2023-07-01')]\n",
    "    temp_df9.reset_index(drop = True, inplace = True)\n",
    "except:\n",
    "    print(\"Date not in range\")"
   ]
  },
  {
   "cell_type": "code",
   "execution_count": 12,
   "id": "71655856",
   "metadata": {},
   "outputs": [],
   "source": [
    "df = pd.read_csv('Data/reddit/btc_submissions.csv')\n",
    "df['created'] = pd.to_datetime(df['created'], infer_datetime_format=True)\n",
    "df[\"Datetime\"] = df[\"created\"].dt.ceil(freq = 'H', nonexistent = 'next')\n",
    "df.drop('created', axis = 1, inplace = True)\n",
    "try:\n",
    "    temp_df10 = df.loc[(df['Datetime'] >= '2022-07-01') & (df['Datetime'] < '2023-07-01')]\n",
    "    temp_df10.reset_index(drop = True, inplace = True)\n",
    "except:\n",
    "    print(\"Date not in range\")"
   ]
  },
  {
   "cell_type": "code",
   "execution_count": 13,
   "id": "4835b36c",
   "metadata": {},
   "outputs": [],
   "source": [
    "temp_df8.rename(columns={'body': 'title'}, inplace=True)"
   ]
  },
  {
   "cell_type": "code",
   "execution_count": 14,
   "id": "759a599a",
   "metadata": {},
   "outputs": [],
   "source": [
    "frames = [temp_df1, temp_df2, temp_df3, temp_df4, temp_df5, temp_df6, temp_df7, temp_df8, temp_df9, temp_df10]"
   ]
  },
  {
   "cell_type": "code",
   "execution_count": 15,
   "id": "c53b8461",
   "metadata": {},
   "outputs": [],
   "source": [
    "date_list = []\n",
    "comments_list = []\n",
    "for frame in frames:\n",
    "    for i in range(len(frame.index)):\n",
    "        if frame['Datetime'][i] not in date_list:\n",
    "            date_list.append(frame['Datetime'][i])\n",
    "            comments_list.append([frame['title'][i]])\n",
    "        else:\n",
    "            ind = date_list.index(frame['Datetime'][i])\n",
    "            comments_list[ind].append(frame['title'][i])"
   ]
  },
  {
   "cell_type": "code",
   "execution_count": 16,
   "id": "341c543d",
   "metadata": {},
   "outputs": [
    {
     "data": {
      "text/plain": [
       "8757"
      ]
     },
     "execution_count": 16,
     "metadata": {},
     "output_type": "execute_result"
    }
   ],
   "source": [
    "len(comments_list)"
   ]
  },
  {
   "cell_type": "code",
   "execution_count": 17,
   "id": "bb0bc3d5",
   "metadata": {},
   "outputs": [],
   "source": [
    "# dictionary of lists \n",
    "dict = {'Datetime': date_list, 'Comments': comments_list} \n",
    "   \n",
    "senftiment_df = pd.DataFrame(dict)"
   ]
  },
  {
   "cell_type": "code",
   "execution_count": 18,
   "id": "17e5073d",
   "metadata": {},
   "outputs": [],
   "source": [
    "senftiment_df.sort_values(by=['Datetime'], inplace = True)\n",
    "senftiment_df.reset_index(drop = True, inplace = True)"
   ]
  },
  {
   "cell_type": "code",
   "execution_count": 19,
   "id": "8031a600",
   "metadata": {},
   "outputs": [
    {
     "data": {
      "text/html": [
       "<div>\n",
       "<style scoped>\n",
       "    .dataframe tbody tr th:only-of-type {\n",
       "        vertical-align: middle;\n",
       "    }\n",
       "\n",
       "    .dataframe tbody tr th {\n",
       "        vertical-align: top;\n",
       "    }\n",
       "\n",
       "    .dataframe thead th {\n",
       "        text-align: right;\n",
       "    }\n",
       "</style>\n",
       "<table border=\"1\" class=\"dataframe\">\n",
       "  <thead>\n",
       "    <tr style=\"text-align: right;\">\n",
       "      <th></th>\n",
       "      <th>Datetime</th>\n",
       "      <th>Comments</th>\n",
       "    </tr>\n",
       "  </thead>\n",
       "  <tbody>\n",
       "    <tr>\n",
       "      <th>0</th>\n",
       "      <td>2022-07-01 00:00:00</td>\n",
       "      <td>[Earn coins while browsing the web, Who is Fer...</td>\n",
       "    </tr>\n",
       "    <tr>\n",
       "      <th>1</th>\n",
       "      <td>2022-07-01 01:00:00</td>\n",
       "      <td>[New York denies air permit to Bitcoin mining ...</td>\n",
       "    </tr>\n",
       "    <tr>\n",
       "      <th>2</th>\n",
       "      <td>2022-07-01 02:00:00</td>\n",
       "      <td>[You guys need to quit buying so we can get th...</td>\n",
       "    </tr>\n",
       "    <tr>\n",
       "      <th>3</th>\n",
       "      <td>2022-07-01 03:00:00</td>\n",
       "      <td>[El Salvador bought today 80 #BTC at $19,000 e...</td>\n",
       "    </tr>\n",
       "    <tr>\n",
       "      <th>4</th>\n",
       "      <td>2022-07-01 04:00:00</td>\n",
       "      <td>[I’m wet., The World News Bitcoin in United st...</td>\n",
       "    </tr>\n",
       "    <tr>\n",
       "      <th>...</th>\n",
       "      <td>...</td>\n",
       "      <td>...</td>\n",
       "    </tr>\n",
       "    <tr>\n",
       "      <th>8752</th>\n",
       "      <td>2023-06-30 19:00:00</td>\n",
       "      <td>[AI NFT, SEC reportedly returned the recent sp...</td>\n",
       "    </tr>\n",
       "    <tr>\n",
       "      <th>8753</th>\n",
       "      <td>2023-06-30 20:00:00</td>\n",
       "      <td>[Live discussion with Jameson Lopp, Just a mom...</td>\n",
       "    </tr>\n",
       "    <tr>\n",
       "      <th>8754</th>\n",
       "      <td>2023-06-30 21:00:00</td>\n",
       "      <td>[Relai app not working in the uk, what career ...</td>\n",
       "    </tr>\n",
       "    <tr>\n",
       "      <th>8755</th>\n",
       "      <td>2023-06-30 22:00:00</td>\n",
       "      <td>[Spot Bitcoin ETF Filings Fall Short Says Gens...</td>\n",
       "    </tr>\n",
       "    <tr>\n",
       "      <th>8756</th>\n",
       "      <td>2023-06-30 23:00:00</td>\n",
       "      <td>[Apple's wallet garden versus Nostr and the op...</td>\n",
       "    </tr>\n",
       "  </tbody>\n",
       "</table>\n",
       "<p>8757 rows × 2 columns</p>\n",
       "</div>"
      ],
      "text/plain": [
       "                Datetime                                           Comments\n",
       "0    2022-07-01 00:00:00  [Earn coins while browsing the web, Who is Fer...\n",
       "1    2022-07-01 01:00:00  [New York denies air permit to Bitcoin mining ...\n",
       "2    2022-07-01 02:00:00  [You guys need to quit buying so we can get th...\n",
       "3    2022-07-01 03:00:00  [El Salvador bought today 80 #BTC at $19,000 e...\n",
       "4    2022-07-01 04:00:00  [I’m wet., The World News Bitcoin in United st...\n",
       "...                  ...                                                ...\n",
       "8752 2023-06-30 19:00:00  [AI NFT, SEC reportedly returned the recent sp...\n",
       "8753 2023-06-30 20:00:00  [Live discussion with Jameson Lopp, Just a mom...\n",
       "8754 2023-06-30 21:00:00  [Relai app not working in the uk, what career ...\n",
       "8755 2023-06-30 22:00:00  [Spot Bitcoin ETF Filings Fall Short Says Gens...\n",
       "8756 2023-06-30 23:00:00  [Apple's wallet garden versus Nostr and the op...\n",
       "\n",
       "[8757 rows x 2 columns]"
      ]
     },
     "execution_count": 19,
     "metadata": {},
     "output_type": "execute_result"
    }
   ],
   "source": [
    "senftiment_df"
   ]
  },
  {
   "cell_type": "markdown",
   "id": "88b4a254",
   "metadata": {},
   "source": [
    "#### Sentiment Analysis"
   ]
  },
  {
   "cell_type": "code",
   "execution_count": 20,
   "id": "a0164f68",
   "metadata": {},
   "outputs": [],
   "source": [
    "import psaw\n",
    "import nltk\n",
    "from nltk.sentiment.vader import SentimentIntensityAnalyzer"
   ]
  },
  {
   "cell_type": "code",
   "execution_count": 21,
   "id": "09d68d5a",
   "metadata": {},
   "outputs": [
    {
     "name": "stderr",
     "output_type": "stream",
     "text": [
      "[nltk_data] Downloading package vader_lexicon to\n",
      "[nltk_data]     C:\\Users\\viren\\AppData\\Roaming\\nltk_data...\n",
      "[nltk_data]   Package vader_lexicon is already up-to-date!\n"
     ]
    }
   ],
   "source": [
    "# Initialize NLTK's VADER sentiment analyzer\n",
    "nltk.download(\"vader_lexicon\")\n",
    "sia = SentimentIntensityAnalyzer()"
   ]
  },
  {
   "cell_type": "code",
   "execution_count": 22,
   "id": "2ba5ca7e",
   "metadata": {},
   "outputs": [
    {
     "data": {
      "text/plain": [
       "0.0"
      ]
     },
     "execution_count": 22,
     "metadata": {},
     "output_type": "execute_result"
    }
   ],
   "source": [
    "score = sia.polarity_scores(senftiment_df[\"Comments\"][1][1])\n",
    "score[\"compound\"]"
   ]
  },
  {
   "cell_type": "code",
   "execution_count": 23,
   "id": "38471903",
   "metadata": {},
   "outputs": [
    {
     "data": {
      "text/plain": [
       "{'neg': 0.0, 'neu': 1.0, 'pos': 0.0, 'compound': 0.0}"
      ]
     },
     "execution_count": 23,
     "metadata": {},
     "output_type": "execute_result"
    }
   ],
   "source": [
    "score"
   ]
  },
  {
   "cell_type": "code",
   "execution_count": 25,
   "id": "fe0c4df9",
   "metadata": {},
   "outputs": [],
   "source": [
    "hourly_comp = []\n",
    "hourly_neg = []\n",
    "hourly_pos = []\n",
    "\n",
    "for i in range(len(senftiment_df.index)):\n",
    "    try:\n",
    "        if len(senftiment_df[\"Comments\"][i]) != 0:\n",
    "            pos_sent = []\n",
    "            neg_sent = []\n",
    "            comp_sent = []\n",
    "            for j in range(len(senftiment_df[\"Comments\"][i])):\n",
    "                score = sia.polarity_scores(senftiment_df[\"Comments\"][i][j])\n",
    "                pos_sent.append(score['pos'])\n",
    "                neg_sent.append(score['neg'])\n",
    "                comp_sent.append(score['compound'])\n",
    "            avg_pos_score = statistics.mean(pos_sent)\n",
    "            avg_neg_score = statistics.mean(neg_sent)\n",
    "            avg_comp_score = statistics.mean(comp_sent)\n",
    "        else:\n",
    "            avg_pos_score = 0\n",
    "            avg_neg_score = 0\n",
    "            avg_comp_score = 0\n",
    "        hourly_pos.append(avg_pos_score)\n",
    "        hourly_neg.append(avg_neg_score)\n",
    "        hourly_comp.append(avg_comp_score)\n",
    "    except:\n",
    "        hourly_pos.append(np.nan)\n",
    "        hourly_neg.append(np.nan)\n",
    "        hourly_comp.append(np.nan)"
   ]
  },
  {
   "cell_type": "code",
   "execution_count": 27,
   "id": "8f2bb4b3",
   "metadata": {},
   "outputs": [],
   "source": [
    "senftiment_df['Pos_score'] = hourly_pos\n",
    "senftiment_df['Neg_score'] = hourly_neg\n",
    "senftiment_df['Compound_score'] = hourly_comp"
   ]
  },
  {
   "cell_type": "code",
   "execution_count": 41,
   "id": "2657f20f",
   "metadata": {},
   "outputs": [],
   "source": [
    "from sklearn.impute import KNNImputer\n",
    "imputer = KNNImputer(n_neighbors = 2)\n",
    "senftiment_df[['Pos_score', 'Neg_score', 'Compound_score']] = imputer.fit_transform(senftiment_df[['Pos_score', 'Neg_score', 'Compound_score']])"
   ]
  },
  {
   "cell_type": "code",
   "execution_count": 43,
   "id": "edfc8719",
   "metadata": {},
   "outputs": [],
   "source": [
    "senftiment_df['Polarity'] = ''\n",
    "for i in range(len(senftiment_df.index)):\n",
    "    if senftiment_df['Compound_score'][i] > 0.3:\n",
    "        senftiment_df['Polarity'][i] = 1\n",
    "    elif senftiment_df['Compound_score'][i] < -0.3:\n",
    "        senftiment_df['Polarity'][i] = -1\n",
    "    else:\n",
    "        senftiment_df['Polarity'][i] = 0"
   ]
  },
  {
   "cell_type": "code",
   "execution_count": 44,
   "id": "4d9c7d2c",
   "metadata": {},
   "outputs": [],
   "source": [
    "senftiment_df.to_csv('Data/reddit_sentiment.csv')"
   ]
  }
 ],
 "metadata": {
  "kernelspec": {
   "display_name": "tensor",
   "language": "python",
   "name": "tensor"
  },
  "language_info": {
   "codemirror_mode": {
    "name": "ipython",
    "version": 3
   },
   "file_extension": ".py",
   "mimetype": "text/x-python",
   "name": "python",
   "nbconvert_exporter": "python",
   "pygments_lexer": "ipython3",
   "version": "3.9.19"
  }
 },
 "nbformat": 4,
 "nbformat_minor": 5
}
